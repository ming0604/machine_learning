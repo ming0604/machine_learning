{
 "cells": [
  {
   "cell_type": "code",
   "execution_count": 1,
   "metadata": {},
   "outputs": [],
   "source": [
    "import numpy as np\n",
    "import pandas as pd\n",
    "import matplotlib.pyplot as plt\n",
    "\n",
    "class knn:\n",
    "    def __init__(self,k_neighbors=1,a=2,b=9,c=99):\n",
    "        self.k=k_neighbors\n",
    "        self.a1=a\n",
    "        self.b1=b\n",
    "        self.c1=c\n",
    "    def var(self):\n",
    "        print(\"k= \" ,self.k)\n",
    "        print(\"a= \" ,self.a1)\n",
    "        print(\"b= \", self.b1)\n",
    "        print(\"c= \", self.c1)"
   ]
  },
  {
   "cell_type": "code",
   "execution_count": 2,
   "metadata": {},
   "outputs": [
    {
     "name": "stdout",
     "output_type": "stream",
     "text": [
      "k=  5\n",
      "a=  2\n",
      "b=  9\n",
      "c=  6\n"
     ]
    }
   ],
   "source": [
    "def main():\n",
    "    test= knn(k_neighbors=5,c=6)\n",
    "    test.var()\n",
    "\n",
    "main()"
   ]
  },
  {
   "cell_type": "code",
   "execution_count": 3,
   "metadata": {},
   "outputs": [
    {
     "name": "stdout",
     "output_type": "stream",
     "text": [
      "[1. 1. 1. 1. 1. 1. 1. 1. 1. 1. 1. 1. 1. 1. 1. 1. 1. 1. 1. 1. 1. 1. 1. 1.\n",
      " 1. 1. 1. 1. 1. 1. 1. 1. 1. 1. 1. 1. 1. 1. 1. 1. 1. 1. 1. 1. 1. 1. 1. 1.\n",
      " 1. 1. 2. 2. 2. 2. 2. 2. 2. 2. 2. 2. 2. 2. 2. 2. 2. 2. 2. 2. 2. 2. 2. 2.\n",
      " 2. 2. 2. 2. 2. 2. 2. 2. 2. 2. 2. 2. 2. 2. 2. 2. 2. 2. 2. 2. 2. 2. 2. 2.\n",
      " 2. 2. 2. 2. 3. 3. 3. 3. 3. 3. 3. 3. 3. 3. 3. 3. 3. 3. 3. 3. 3. 3. 3. 3.\n",
      " 3. 3. 3. 3. 3. 3. 3. 3. 3. 3. 3. 3. 3. 3. 3. 3. 3. 3. 3. 3. 3. 3. 3. 3.\n",
      " 3. 3. 3. 3. 3. 3.]\n"
     ]
    }
   ],
   "source": [
    "def read_to_array(filepath):\n",
    "    iris_dataframe = pd.read_csv(filepath, header=None, sep='\\s+')\n",
    "    iris_data_array = iris_dataframe.to_numpy()\n",
    "\n",
    "    return iris_data_array\n",
    "\n",
    "iris_arr=read_to_array(\"iris.txt\")\n",
    "features = ['Sepal length', 'Sepal width', 'Petal length', 'Petal width']\n",
    "species =['Setosa', 'Versicolor', 'Virginica']\n",
    "\n",
    "y=iris_arr[:,-1]\n",
    "print(y)\n",
    "\n"
   ]
  },
  {
   "cell_type": "code",
   "execution_count": 4,
   "metadata": {},
   "outputs": [
    {
     "name": "stdout",
     "output_type": "stream",
     "text": [
      "原始数组:\n",
      "[1 2 3 2 4 1 5 6 3 4 7 8 9 9]\n",
      "\n",
      "不同的值:\n",
      "[1 2 3 4 5 6 7 8 9]\n",
      "\n",
      "不同值的数量:\n",
      "9\n"
     ]
    }
   ],
   "source": [
    "import numpy as np\n",
    "\n",
    "# 创建一个包含一些重复值的数组\n",
    "my_array = np.array([1, 2, 3, 2, 4, 1, 5, 6, 3, 4, 7, 8, 9, 9])\n",
    "\n",
    "# 使用 np.unique 获取数组中的不同值\n",
    "unique_values = np.unique(my_array)\n",
    "\n",
    "# 使用 len 获取不同值的数量\n",
    "num_unique_values = len(unique_values)\n",
    "\n",
    "print(\"原始数组:\")\n",
    "print(my_array)\n",
    "\n",
    "print(\"\\n不同的值:\")\n",
    "print(unique_values)\n",
    "\n",
    "print(\"\\n不同值的数量:\")\n",
    "print(num_unique_values)\n"
   ]
  },
  {
   "cell_type": "code",
   "execution_count": 5,
   "metadata": {},
   "outputs": [
    {
     "data": {
      "image/png": "[encoded data removed]",
      "text/plain": [
       "<Figure size 640x480 with 1 Axes>"
      ]
     },
     "metadata": {},
     "output_type": "display_data"
    }
   ],
   "source": [
    "import pandas as pd\n",
    "import matplotlib.pyplot as plt\n",
    "\n",
    "# 数据\n",
    "data = {'Name': ['Alice', 'Bob', 'Charlie'],\n",
    "        'Age': [25, 30, 35],\n",
    "        'Country': ['USA', 'Canada', 'UK']}\n",
    "\n",
    "# 创建 DataFrame\n",
    "df = pd.DataFrame(data)\n",
    "\n",
    "# 绘制表格\n",
    "fig, ax = plt.subplots()\n",
    "ax.axis('off')\n",
    "table = ax.table(cellText=df.values, colLabels=df.columns, cellLoc='center', loc='center')\n",
    "\n",
    "plt.show()\n"
   ]
  },
  {
   "cell_type": "code",
   "execution_count": 6,
   "metadata": {},
   "outputs": [
    {
     "name": "stdout",
     "output_type": "stream",
     "text": [
      "      Name  Age Country\n",
      "0    Alice   25     USA\n",
      "1      Bob   30  Canada\n",
      "2  Charlie   35      UK\n"
     ]
    }
   ],
   "source": [
    "import pandas as pd\n",
    "\n",
    "# 从列表创建 DataFrame\n",
    "data = {'Name': ['Alice', 'Bob', 'Charlie'],\n",
    "        'Age': [25, 30, 35],\n",
    "        'Country': ['USA', 'Canada', 'UK']}\n",
    "\n",
    "df = pd.DataFrame(data)\n",
    "print(df)"
   ]
  }
 ],
 "metadata": {
  "kernelspec": {
   "display_name": "base",
   "language": "python",
   "name": "python3"
  },
  "language_info": {
   "codemirror_mode": {
    "name": "ipython",
    "version": 3
   },
   "file_extension": ".py",
   "mimetype": "text/x-python",
   "name": "python",
   "nbconvert_exporter": "python",
   "pygments_lexer": "ipython3",
   "version": "3.8.18"
  },
  "orig_nbformat": 4
 },
 "nbformat": 4,
 "nbformat_minor": 2
}
