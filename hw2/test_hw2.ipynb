{
 "cells": [
  {
   "cell_type": "code",
   "execution_count": 8,
   "metadata": {},
   "outputs": [],
   "source": [
    "import numpy as np\n",
    "import pandas as pd\n",
    "import matplotlib.pyplot as plt\n"
   ]
  },
  {
   "cell_type": "code",
   "execution_count": 31,
   "metadata": {},
   "outputs": [
    {
     "name": "stdout",
     "output_type": "stream",
     "text": [
      "[[1 3]]\n",
      "[[3]\n",
      " [4]]\n",
      "[[ 3  9]\n",
      " [ 4 12]]\n",
      "[[ 3.  9.]\n",
      " [ 4. 12.]]\n",
      "[[0.75 2.25]\n",
      " [1.   3.  ]]\n",
      "[[15. 45.]\n",
      " [20. 60.]]\n"
     ]
    }
   ],
   "source": [
    "matrix1=np.array([[1,3]])\n",
    "matrix2=((np.array([[3,4]])).T)\n",
    "result1=np.matmul(matrix2,matrix1)\n",
    "result=np.zeros((2,2))\n",
    "result=result+result1\n",
    "result_div=result/4\n",
    "result_mul=result*5\n",
    "print(matrix1)\n",
    "print(matrix2)\n",
    "print(result1)\n",
    "print(result)\n",
    "print(result_div)\n",
    "print(result_mul)"
   ]
  },
  {
   "cell_type": "code",
   "execution_count": 29,
   "metadata": {},
   "outputs": [
    {
     "name": "stdout",
     "output_type": "stream",
     "text": [
      "[[1 2]\n",
      " [3 4]\n",
      " [5 6]\n",
      " [7 8]]\n",
      "[[4. 5.]]\n",
      "[[1 2]]\n",
      "[[-3.]\n",
      " [-3.]]\n",
      "[[-3. -3.]]\n",
      "[[9. 9.]\n",
      " [9. 9.]]\n",
      "[[3 4]]\n",
      "[[-1.]\n",
      " [-1.]]\n",
      "[[-1. -1.]]\n",
      "[[1. 1.]\n",
      " [1. 1.]]\n",
      "[[5 6]]\n",
      "[[1.]\n",
      " [1.]]\n",
      "[[1. 1.]]\n",
      "[[1. 1.]\n",
      " [1. 1.]]\n",
      "[[7 8]]\n",
      "[[3.]\n",
      " [3.]]\n",
      "[[3. 3.]]\n",
      "[[9. 9.]\n",
      " [9. 9.]]\n",
      "[[1 2]\n",
      " [3 4]\n",
      " [5 6]\n",
      " [7 8]]\n"
     ]
    }
   ],
   "source": [
    "x=np.array([[1,2],[3,4],[5,6],[7,8]])\n",
    "print(x)\n",
    "\n",
    "m1=np.mean(x,axis=0,keepdims=True)\n",
    "print(m1)\n",
    "for xi in x:\n",
    "    xi =np.array([xi])\n",
    "    print(xi)\n",
    "    print((xi-m1).T)\n",
    "    print(xi-m1)\n",
    "    temp = np.matmul(((xi-m1).T),(xi-m1))\n",
    "    print(temp)\n",
    "\n",
    "print(x)"
   ]
  },
  {
   "cell_type": "code",
   "execution_count": 32,
   "metadata": {},
   "outputs": [
    {
     "name": "stdout",
     "output_type": "stream",
     "text": [
      "满足条件的元素索引： (array([3, 4, 6], dtype=int64),)\n"
     ]
    }
   ],
   "source": [
    "import numpy as np\n",
    "\n",
    "# 创建一个示例数组\n",
    "arr = np.array([1, 5, 3, 7, 7, 2, 7, 8])\n",
    "\n",
    "# 找到满足条件的元素的索引\n",
    "indices = np.where(arr == 7)\n",
    "\n",
    "print(\"满足条件的元素索引：\", indices)\n"
   ]
  }
 ],
 "metadata": {
  "kernelspec": {
   "display_name": "base",
   "language": "python",
   "name": "python3"
  },
  "language_info": {
   "codemirror_mode": {
    "name": "ipython",
    "version": 3
   },
   "file_extension": ".py",
   "mimetype": "text/x-python",
   "name": "python",
   "nbconvert_exporter": "python",
   "pygments_lexer": "ipython3",
   "version": "3.11.4"
  },
  "orig_nbformat": 4
 },
 "nbformat": 4,
 "nbformat_minor": 2
}
