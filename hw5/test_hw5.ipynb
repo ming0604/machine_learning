{
 "cells": [
  {
   "cell_type": "code",
   "execution_count": 5,
   "metadata": {},
   "outputs": [
    {
     "name": "stdout",
     "output_type": "stream",
     "text": [
      "[[ 0.1622  25.38   ]\n",
      " [ 0.1238  24.99   ]\n",
      " [ 0.1444  23.57   ]\n",
      " ...\n",
      " [ 0.1139  18.98   ]\n",
      " [ 0.165   25.74   ]\n",
      " [ 0.08996  9.456  ]]\n",
      "[[1.846e+02 1.622e-01 2.538e+01]\n",
      " [1.588e+02 1.238e-01 2.499e+01]\n",
      " [1.525e+02 1.444e-01 2.357e+01]\n",
      " ...\n",
      " [1.267e+02 1.139e-01 1.898e+01]\n",
      " [1.846e+02 1.650e-01 2.574e+01]\n",
      " [5.916e+01 8.996e-02 9.456e+00]]\n"
     ]
    }
   ],
   "source": [
    "import numpy as np\n",
    "import pandas as pd\n",
    "import matplotlib.pyplot as plt\n",
    "from sklearn.datasets import load_breast_cancer\n",
    "\n",
    "breast_cancer_data = load_breast_cancer()\n",
    "x = breast_cancer_data.data\n",
    "y =breast_cancer_data.target\n",
    "feature_names = breast_cancer_data.feature_names\n",
    "#malignant=0,benign=1\n",
    "\n",
    "#label 0 \n",
    "x_label_0 = x[y==0]\n",
    "x_label_1 = x[y==1]\n",
    "y_label_0 = y[y==0]\n",
    "y_label_1 = y[y==1]\n",
    "#print(x_label_0[:,-1])\n",
    "#print(x_label_0.shape)\n",
    "temp_feature= [22, 24 ,20]\n",
    "x_1 =x[ : , temp_feature]\n",
    "print(x[:,[24,20]])\n",
    "print(x_1)"
   ]
  }
 ],
 "metadata": {
  "kernelspec": {
   "display_name": "base",
   "language": "python",
   "name": "python3"
  },
  "language_info": {
   "codemirror_mode": {
    "name": "ipython",
    "version": 3
   },
   "file_extension": ".py",
   "mimetype": "text/x-python",
   "name": "python",
   "nbconvert_exporter": "python",
   "pygments_lexer": "ipython3",
   "version": "3.11.5"
  }
 },
 "nbformat": 4,
 "nbformat_minor": 2
}
