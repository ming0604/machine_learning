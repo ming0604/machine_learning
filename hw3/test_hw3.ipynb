{
 "cells": [
  {
   "cell_type": "code",
   "execution_count": 11,
   "metadata": {},
   "outputs": [],
   "source": [
    "import numpy as np\n",
    "import pandas as pd\n",
    "from qpsolvers import solve_qp"
   ]
  },
  {
   "cell_type": "code",
   "execution_count": 3,
   "metadata": {},
   "outputs": [
    {
     "name": "stdout",
     "output_type": "stream",
     "text": [
      "[[2.]\n",
      " [2.]\n",
      " [2.]\n",
      " [2.]\n",
      " [2.]\n",
      " [2.]\n",
      " [2.]\n",
      " [2.]\n",
      " [2.]\n",
      " [2.]\n",
      " [2.]\n",
      " [2.]\n",
      " [2.]\n",
      " [2.]\n",
      " [2.]\n",
      " [2.]\n",
      " [2.]\n",
      " [2.]\n",
      " [2.]\n",
      " [2.]\n",
      " [2.]\n",
      " [2.]\n",
      " [2.]\n",
      " [2.]\n",
      " [2.]\n",
      " [3.]\n",
      " [3.]\n",
      " [3.]\n",
      " [3.]\n",
      " [3.]\n",
      " [3.]\n",
      " [3.]\n",
      " [3.]\n",
      " [3.]\n",
      " [3.]\n",
      " [3.]\n",
      " [3.]\n",
      " [3.]\n",
      " [3.]\n",
      " [3.]\n",
      " [3.]\n",
      " [3.]\n",
      " [3.]\n",
      " [3.]\n",
      " [3.]\n",
      " [3.]\n",
      " [3.]\n",
      " [3.]\n",
      " [3.]\n",
      " [3.]]\n"
     ]
    }
   ],
   "source": [
    "def read_to_array(filepath):\n",
    "    iris_dataframe = pd.read_csv(filepath, header=None, sep='\\s+')\n",
    "    iris_data_array = iris_dataframe.to_numpy()\n",
    "\n",
    "    return iris_data_array\n",
    "\n",
    "\n",
    "iris_arr=read_to_array(\"iris.txt\")\n",
    "features = ['Sepal length', 'Sepal width', 'Petal length', 'Petal width']\n",
    "species =['Setosa', 'Versicolor', 'Virginica']\n",
    "setosa=iris_arr[:50]\n",
    "versicolor=iris_arr[50:100]\n",
    "virginica=iris_arr[100:]\n",
    "\n",
    "y1_first_half = versicolor[:25,-1]\n",
    "y2_first_half = virginica[:25,-1]\n",
    "y_train=np.concatenate((y1_first_half, y2_first_half),axis=0)\n",
    "print(y_train.reshape((50,1)))"
   ]
  },
  {
   "cell_type": "code",
   "execution_count": 4,
   "metadata": {},
   "outputs": [],
   "source": [
    "x1_train=versicolor[:25,2:-1]\n",
    "x2_train=versicolor[:25,2:-1]\n",
    "x_train=np.concatenate((x1_train,x2_train),axis=0)\n"
   ]
  },
  {
   "cell_type": "code",
   "execution_count": 14,
   "metadata": {},
   "outputs": [
    {
     "ename": "NameError",
     "evalue": "name 'qpsolvers' is not defined",
     "output_type": "error",
     "traceback": [
      "\u001b[1;31m---------------------------------------------------------------------------\u001b[0m",
      "\u001b[1;31mNameError\u001b[0m                                 Traceback (most recent call last)",
      "\u001b[1;32mc:\\Users\\b0981\\OneDrive\\文件\\python project\\machine_learning_2023_fall\\hw3\\test_hw3.ipynb Cell 4\u001b[0m line \u001b[0;36m1\n\u001b[1;32m----> <a href='vscode-notebook-cell:/c%3A/Users/b0981/OneDrive/%E6%96%87%E4%BB%B6/python%20project/machine_learning_2023_fall/hw3/test_hw3.ipynb#W3sZmlsZQ%3D%3D?line=0'>1</a>\u001b[0m \u001b[39mprint\u001b[39m(qpsolvers\u001b[39m.\u001b[39mavailable_solvers)\n",
      "\u001b[1;31mNameError\u001b[0m: name 'qpsolvers' is not defined"
     ]
    }
   ],
   "source": [
    "print(qpsolvers.available_solvers)"
   ]
  }
 ],
 "metadata": {
  "kernelspec": {
   "display_name": "base",
   "language": "python",
   "name": "python3"
  },
  "language_info": {
   "codemirror_mode": {
    "name": "ipython",
    "version": 3
   },
   "file_extension": ".py",
   "mimetype": "text/x-python",
   "name": "python",
   "nbconvert_exporter": "python",
   "pygments_lexer": "ipython3",
   "version": "3.8.18"
  }
 },
 "nbformat": 4,
 "nbformat_minor": 2
}
